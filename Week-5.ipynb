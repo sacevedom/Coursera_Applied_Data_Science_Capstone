{
    "nbformat_minor": 1, 
    "cells": [
        {
            "source": "# 1. Introduction\n\nSantiago de Chile is a growing city with a major increase in population during the last decades. That raises several issues, in particular healthcare problems specially in winter during the peak period of diseases.\nTo address this problem, the city need to allocate their resources to build more healthcare facilitates in locations where today are non existant or the only that exists are private facilities.\n\n\n# 2. Business Problem\n\nIt is needed to find the best position for the next healthcare facilites that are goint to be built in Santiago and be able to attend the increased demand specially during the peak period.\n\n#### Stakeholders \nLocal goverment/authorities\n\n#### Target Audience\nSantiago population\n\n#### Reason to solve \nIf the allocation of the new facilites are correct, the quality of life of thousands of people will be improved vastly during the peak period of deceases (winter)\n\n# 3. Data Section\n\n#### Repositories\n\nThe idea is to gather information of Population, Latitude, Longitude and Location of healthcare facilites for each Neighborhood in Santiago de Chile. To achieve this, i'm going to use the following sites/api to gather information.\n\nNeighborhood and Population is going to be gathered from Wikipedia https://es.wikipedia.org/wiki/Anexo:Comunas_de_Santiago_de_Chile , Latitude and Longitude for each Neighborhood will be retrieved using geopy library and the information of the healthcare facilities from Foursquare API considering the venus in the category \"Medical Center\"https://developer.foursquare.com/docs/resources/categories\"", 
            "cell_type": "markdown", 
            "metadata": {}
        }, 
        {
            "source": "#### Header information of libraries needed", 
            "cell_type": "markdown", 
            "metadata": {}
        }, 
        {
            "execution_count": 3, 
            "cell_type": "code", 
            "metadata": {}, 
            "outputs": [
                {
                    "output_type": "stream", 
                    "name": "stdout", 
                    "text": "Libraries imported.\n"
                }
            ], 
            "source": "import numpy as np # library to handle data in a vectorized manner\n\nimport pandas as pd # library for data analsysis\npd.set_option('display.max_columns', None)\npd.set_option('display.max_rows', None)\n\nimport json # library to handle JSON files\n\n#!conda install -c conda-forge geopy --yes # uncomment this line if you haven't completed the Foursquare API lab\nfrom geopy.geocoders import Nominatim # convert an address into latitude and longitude values\n\nimport requests # library to handle requests\nfrom pandas.io.json import json_normalize # tranform JSON file into a pandas dataframe\n\n# Matplotlib and associated plotting modules\nimport matplotlib.cm as cm\nimport matplotlib.colors as colors\n\n# import k-means from clustering stage\nfrom sklearn.cluster import KMeans\n\n#!conda install -c conda-forge folium=0.5.0 --yes # uncomment this line if you haven't completed the Foursquare API lab\nimport folium # map rendering library\n\n#!pip install BeautifulSoup4 --yes # uncomment this line if you dont have BeautifulSoup installes\n\nfrom bs4 import BeautifulSoup\n\ngeolocator = Nominatim(user_agent=\"ny_explorer\")\n\nprint('Libraries imported.')"
        }, 
        {
            "source": "#### Download and Refine Dataset\nThe following code does the following\n1. Download the population and neighbour data\n2. Like in the previous assigment, that data is cleaned up \n3. With the cleaned data, i assign for each neighbour the location data using the geopy API\n4. Finally, i saved that data as csv so i can read it from the file instead of calling it everytime (this improve the speed of testing once the data is ok)", 
            "cell_type": "markdown", 
            "metadata": {}
        }, 
        {
            "execution_count": 4, 
            "cell_type": "code", 
            "metadata": {}, 
            "outputs": [
                {
                    "output_type": "stream", 
                    "name": "stdout", 
                    "text": "Done saving file\n"
                }
            ], 
            "source": "!wget -q -O 'santiago_data.html' https://es.wikipedia.org/wiki/Anexo:Comunas_de_Santiago_de_Chile\n\nwith open(\"santiago_data.html\") as html_doc:\n    soup = BeautifulSoup(html_doc, 'lxml') \n    table_data = soup.find_all('table')[3] \n    table_data = [[cell.text.replace('\\n', '') for cell in row(\"td\")]\n                         for row in table_data(\"tr\")]\n    table_data[0] = [\"Comuna\",\"Ubicacion\",\"Poblacion\",\"Viviendas\",\"Densidad\",\"Crecimiento\",\"ICVU\",\"Pobreza\"]\n\ndata = np.array(table_data)\ndf = pd.DataFrame({'Neighborhood':data[1:,0],'Population':data[1:,2]})\n\n# function that get the location of Neighborhood\ndef get_location(row):\n        location = geolocator.geocode('{}, Santiago'.format(row['Neighborhood']))\n        return '{},{}'.format(location.latitude,location.longitude)\n\ndf['Location'] = df.apply(get_location, axis=1)\nnew = df[\"Location\"].str.split(\",\", n = 1, expand = True) \ndf[\"Latitude\"]= new[0] \ndf[\"Longitude\"]= new[1] \ndf.drop(columns =[\"Location\"], axis=1, inplace = True) \ndf.reset_index()\ndf.set_index(\"Neighborhood\")\ndf.to_csv(\"santiago_data.csv\")\nprint(\"Done saving file\")"
        }, 
        {
            "source": "At this point, i work with the data from the csv file and the only data that is pending to retrieve is the Foursquare data.", 
            "cell_type": "markdown", 
            "metadata": {}
        }, 
        {
            "execution_count": 5, 
            "cell_type": "code", 
            "metadata": {}, 
            "outputs": [
                {
                    "execution_count": 5, 
                    "metadata": {}, 
                    "data": {
                        "text/html": "<div>\n<style scoped>\n    .dataframe tbody tr th:only-of-type {\n        vertical-align: middle;\n    }\n\n    .dataframe tbody tr th {\n        vertical-align: top;\n    }\n\n    .dataframe thead th {\n        text-align: right;\n    }\n</style>\n<table border=\"1\" class=\"dataframe\">\n  <thead>\n    <tr style=\"text-align: right;\">\n      <th></th>\n      <th>Neighborhood</th>\n      <th>Population</th>\n      <th>Latitude</th>\n      <th>Longitude</th>\n    </tr>\n  </thead>\n  <tbody>\n    <tr>\n      <th>0</th>\n      <td>Cerrillos</td>\n      <td>80832</td>\n      <td>-33.487987</td>\n      <td>-70.703081</td>\n    </tr>\n    <tr>\n      <th>1</th>\n      <td>Cerro Navia</td>\n      <td>132622</td>\n      <td>-33.425145</td>\n      <td>-70.743954</td>\n    </tr>\n    <tr>\n      <th>2</th>\n      <td>Conchal\u00ed</td>\n      <td>126955</td>\n      <td>-33.385096</td>\n      <td>-70.674491</td>\n    </tr>\n    <tr>\n      <th>3</th>\n      <td>El Bosque</td>\n      <td>162505</td>\n      <td>3.485685</td>\n      <td>-76.529368</td>\n    </tr>\n    <tr>\n      <th>4</th>\n      <td>Estaci\u00f3n Central</td>\n      <td>147041</td>\n      <td>-33.463658</td>\n      <td>-70.704966</td>\n    </tr>\n  </tbody>\n</table>\n</div>", 
                        "text/plain": "       Neighborhood  Population   Latitude  Longitude\n0         Cerrillos       80832 -33.487987 -70.703081\n1       Cerro Navia      132622 -33.425145 -70.743954\n2          Conchal\u00ed      126955 -33.385096 -70.674491\n3         El Bosque      162505   3.485685 -76.529368\n4  Estaci\u00f3n Central      147041 -33.463658 -70.704966"
                    }, 
                    "output_type": "execute_result"
                }
            ], 
            "source": "df = pd.read_csv('santiago_data.csv')\ndf.drop(df.columns[0], axis=1, inplace = True)\ndf[[\"Longitude\",\"Latitude\"]].apply(pd.to_numeric)\ndf.head()"
        }, 
        {
            "source": "Now i retrieve the Medical Center facilities from Foursquare, add it to the dataframe and save it to disk like i did before", 
            "cell_type": "markdown", 
            "metadata": {}
        }, 
        {
            "execution_count": 9, 
            "cell_type": "code", 
            "metadata": {}, 
            "outputs": [], 
            "source": "# The code was removed by Watson Studio for sharing."
        }, 
        {
            "execution_count": 10, 
            "cell_type": "code", 
            "metadata": {}, 
            "outputs": [
                {
                    "output_type": "stream", 
                    "name": "stdout", 
                    "text": "Done saving file\n"
                }
            ], 
            "source": "\nVERSION = '20180604' # Foursquare API version\nLIMIT = 100 # limit of number of venues returned by Foursquare API\nCATEGORY= \"4bf58dd8d48988d104941735\" # Medical Center categoryID\n\ndef getNearbyVenues(names, latitudes, longitudes, radius=5000):\n    \n    venues_list=[]\n    for name, lat, lng in zip(names, latitudes, longitudes):\n        # create the API request URL\n        url = 'https://api.foursquare.com/v2/venues/explore?&client_id={}&client_secret={}&v={}&ll={},{}&radius={}&limit={}&categoryId={}'.format(\n            CLIENT_ID, #use your foursware ID here\n            CLIENT_SECRET, #use your foursquare password here\n            VERSION, \n            lat, \n            lng, \n            radius, \n            LIMIT,\n            CATEGORY)\n            \n        # make the GET request\n        results = requests.get(url).json()[\"response\"]['groups'][0]['items']\n        \n        # return only relevant information for each nearby venue\n        venues_list.append([(\n            name, \n            lat, \n            lng, \n            v['venue']['name'], \n            v['venue']['location']['lat'], \n            v['venue']['location']['lng'],  \n            v['venue']['categories'][0]['name']) for v in results])\n\n    nearby_venues = pd.DataFrame([item for venue_list in venues_list for item in venue_list])\n    nearby_venues.columns = ['Neighborhood', \n                  'Neighborhood Latitude', \n                  'Neighborhood Longitude', \n                  'Venue', \n                  'Venue Latitude', \n                  'Venue Longitude', \n                  'Venue Category']\n    \n    return(nearby_venues)\n\ndf_full = getNearbyVenues(names=df['Neighborhood'],\n                                   latitudes=df['Latitude'],\n                                   longitudes=df['Longitude']\n                                  )\ndf_full.to_csv(\"santiago_data_full.csv\")\nprint(\"Done saving file\")"
        }, 
        {
            "source": "Check the saved information with all the data needed for the map, and filter by Hospital and Emergency Room", 
            "cell_type": "markdown", 
            "metadata": {}
        }, 
        {
            "execution_count": 11, 
            "cell_type": "code", 
            "metadata": {}, 
            "outputs": [
                {
                    "execution_count": 11, 
                    "metadata": {}, 
                    "data": {
                        "text/html": "<div>\n<style scoped>\n    .dataframe tbody tr th:only-of-type {\n        vertical-align: middle;\n    }\n\n    .dataframe tbody tr th {\n        vertical-align: top;\n    }\n\n    .dataframe thead th {\n        text-align: right;\n    }\n</style>\n<table border=\"1\" class=\"dataframe\">\n  <thead>\n    <tr style=\"text-align: right;\">\n      <th></th>\n      <th>Unnamed: 0</th>\n      <th>Neighborhood</th>\n      <th>Neighborhood Latitude</th>\n      <th>Neighborhood Longitude</th>\n      <th>Venue</th>\n      <th>Venue Latitude</th>\n      <th>Venue Longitude</th>\n      <th>Venue Category</th>\n    </tr>\n  </thead>\n  <tbody>\n    <tr>\n      <th>15</th>\n      <td>15</td>\n      <td>Cerrillos</td>\n      <td>-33.487987</td>\n      <td>-70.703081</td>\n      <td>Hospital Cl\u00ednico Mutual de Seguridad</td>\n      <td>-33.457448</td>\n      <td>-70.700683</td>\n      <td>Hospital</td>\n    </tr>\n    <tr>\n      <th>17</th>\n      <td>17</td>\n      <td>Cerrillos</td>\n      <td>-33.487987</td>\n      <td>-70.703081</td>\n      <td>Cl\u00ednica Hospital del Profesor</td>\n      <td>-33.457492</td>\n      <td>-70.702841</td>\n      <td>Hospital</td>\n    </tr>\n    <tr>\n      <th>22</th>\n      <td>22</td>\n      <td>Cerrillos</td>\n      <td>-33.487987</td>\n      <td>-70.703081</td>\n      <td>Consultorio N\u00b0 5</td>\n      <td>-33.451177</td>\n      <td>-70.673671</td>\n      <td>Hospital</td>\n    </tr>\n    <tr>\n      <th>24</th>\n      <td>24</td>\n      <td>Cerrillos</td>\n      <td>-33.487987</td>\n      <td>-70.703081</td>\n      <td>Clinica Bicentenario</td>\n      <td>-33.457439</td>\n      <td>-70.701743</td>\n      <td>Hospital</td>\n    </tr>\n    <tr>\n      <th>25</th>\n      <td>25</td>\n      <td>Cerrillos</td>\n      <td>-33.487987</td>\n      <td>-70.703081</td>\n      <td>Pabellon Mutual de Seguridad</td>\n      <td>-33.457370</td>\n      <td>-70.701023</td>\n      <td>Hospital</td>\n    </tr>\n    <tr>\n      <th>26</th>\n      <td>26</td>\n      <td>Cerrillos</td>\n      <td>-33.487987</td>\n      <td>-70.703081</td>\n      <td>Cl\u00ednica Bicentenario</td>\n      <td>-33.457076</td>\n      <td>-70.701917</td>\n      <td>Hospital</td>\n    </tr>\n    <tr>\n      <th>27</th>\n      <td>27</td>\n      <td>Cerrillos</td>\n      <td>-33.487987</td>\n      <td>-70.703081</td>\n      <td>UCI Mutual De Seguridad</td>\n      <td>-33.456659</td>\n      <td>-70.701221</td>\n      <td>Hospital</td>\n    </tr>\n    <tr>\n      <th>28</th>\n      <td>28</td>\n      <td>Cerrillos</td>\n      <td>-33.487987</td>\n      <td>-70.703081</td>\n      <td>Hospital IST</td>\n      <td>-33.476114</td>\n      <td>-70.651433</td>\n      <td>Hospital</td>\n    </tr>\n    <tr>\n      <th>32</th>\n      <td>32</td>\n      <td>Cerrillos</td>\n      <td>-33.487987</td>\n      <td>-70.703081</td>\n      <td>Urgencia Hospital Del Profesor</td>\n      <td>-33.457954</td>\n      <td>-70.702976</td>\n      <td>Emergency Room</td>\n    </tr>\n    <tr>\n      <th>33</th>\n      <td>33</td>\n      <td>Cerrillos</td>\n      <td>-33.487987</td>\n      <td>-70.703081</td>\n      <td>Urgencia Clinica Bicentenario</td>\n      <td>-33.457823</td>\n      <td>-70.701218</td>\n      <td>Emergency Room</td>\n    </tr>\n    <tr>\n      <th>34</th>\n      <td>34</td>\n      <td>Cerrillos</td>\n      <td>-33.487987</td>\n      <td>-70.703081</td>\n      <td>Urgencia Hospital Clinico Mutual de Seguridad</td>\n      <td>-33.457440</td>\n      <td>-70.700735</td>\n      <td>Emergency Room</td>\n    </tr>\n    <tr>\n      <th>38</th>\n      <td>38</td>\n      <td>Cerrillos</td>\n      <td>-33.487987</td>\n      <td>-70.703081</td>\n      <td>Sapu Julio Acu\u00f1a</td>\n      <td>-33.522650</td>\n      <td>-70.697364</td>\n      <td>Emergency Room</td>\n    </tr>\n    <tr>\n      <th>57</th>\n      <td>57</td>\n      <td>Cerro Navia</td>\n      <td>-33.425145</td>\n      <td>-70.743954</td>\n      <td>Hospital de Cerro Navia -  F\u00e9lix Bulnes Cerda</td>\n      <td>-33.424561</td>\n      <td>-70.740424</td>\n      <td>Hospital</td>\n    </tr>\n    <tr>\n      <th>61</th>\n      <td>61</td>\n      <td>Cerro Navia</td>\n      <td>-33.425145</td>\n      <td>-70.743954</td>\n      <td>Coaniquem</td>\n      <td>-33.436965</td>\n      <td>-70.748909</td>\n      <td>Hospital</td>\n    </tr>\n    <tr>\n      <th>67</th>\n      <td>67</td>\n      <td>Cerro Navia</td>\n      <td>-33.425145</td>\n      <td>-70.743954</td>\n      <td>Hospital Dr. F\u00e9lix Bulnes</td>\n      <td>-33.415910</td>\n      <td>-70.696911</td>\n      <td>Hospital</td>\n    </tr>\n    <tr>\n      <th>68</th>\n      <td>68</td>\n      <td>Cerro Navia</td>\n      <td>-33.425145</td>\n      <td>-70.743954</td>\n      <td>Servicio de Odontolog\u00eda Hospital F\u00e9lix Bulnes ...</td>\n      <td>-33.415789</td>\n      <td>-70.696831</td>\n      <td>Hospital</td>\n    </tr>\n    <tr>\n      <th>70</th>\n      <td>70</td>\n      <td>Cerro Navia</td>\n      <td>-33.425145</td>\n      <td>-70.743954</td>\n      <td>Consultorio Violeta Parra</td>\n      <td>-33.457225</td>\n      <td>-70.742817</td>\n      <td>Emergency Room</td>\n    </tr>\n    <tr>\n      <th>71</th>\n      <td>71</td>\n      <td>Cerro Navia</td>\n      <td>-33.425145</td>\n      <td>-70.743954</td>\n      <td>SAPU Dr. Gustavo Molina</td>\n      <td>-33.458319</td>\n      <td>-70.761000</td>\n      <td>Emergency Room</td>\n    </tr>\n    <tr>\n      <th>72</th>\n      <td>72</td>\n      <td>Cerro Navia</td>\n      <td>-33.425145</td>\n      <td>-70.743954</td>\n      <td>Sapu Renca</td>\n      <td>-33.403581</td>\n      <td>-70.702324</td>\n      <td>Emergency Room</td>\n    </tr>\n    <tr>\n      <th>73</th>\n      <td>73</td>\n      <td>Cerro Navia</td>\n      <td>-33.425145</td>\n      <td>-70.743954</td>\n      <td>SUI Hospital Felix Bulnes Cerda</td>\n      <td>-33.414649</td>\n      <td>-70.695922</td>\n      <td>Emergency Room</td>\n    </tr>\n  </tbody>\n</table>\n</div>", 
                        "text/plain": "    Unnamed: 0 Neighborhood  Neighborhood Latitude  Neighborhood Longitude  \\\n15          15    Cerrillos             -33.487987              -70.703081   \n17          17    Cerrillos             -33.487987              -70.703081   \n22          22    Cerrillos             -33.487987              -70.703081   \n24          24    Cerrillos             -33.487987              -70.703081   \n25          25    Cerrillos             -33.487987              -70.703081   \n26          26    Cerrillos             -33.487987              -70.703081   \n27          27    Cerrillos             -33.487987              -70.703081   \n28          28    Cerrillos             -33.487987              -70.703081   \n32          32    Cerrillos             -33.487987              -70.703081   \n33          33    Cerrillos             -33.487987              -70.703081   \n34          34    Cerrillos             -33.487987              -70.703081   \n38          38    Cerrillos             -33.487987              -70.703081   \n57          57  Cerro Navia             -33.425145              -70.743954   \n61          61  Cerro Navia             -33.425145              -70.743954   \n67          67  Cerro Navia             -33.425145              -70.743954   \n68          68  Cerro Navia             -33.425145              -70.743954   \n70          70  Cerro Navia             -33.425145              -70.743954   \n71          71  Cerro Navia             -33.425145              -70.743954   \n72          72  Cerro Navia             -33.425145              -70.743954   \n73          73  Cerro Navia             -33.425145              -70.743954   \n\n                                                Venue  Venue Latitude  \\\n15               Hospital Cl\u00ednico Mutual de Seguridad      -33.457448   \n17                      Cl\u00ednica Hospital del Profesor      -33.457492   \n22                                   Consultorio N\u00b0 5      -33.451177   \n24                               Clinica Bicentenario      -33.457439   \n25                       Pabellon Mutual de Seguridad      -33.457370   \n26                               Cl\u00ednica Bicentenario      -33.457076   \n27                            UCI Mutual De Seguridad      -33.456659   \n28                                       Hospital IST      -33.476114   \n32                     Urgencia Hospital Del Profesor      -33.457954   \n33                      Urgencia Clinica Bicentenario      -33.457823   \n34      Urgencia Hospital Clinico Mutual de Seguridad      -33.457440   \n38                                   Sapu Julio Acu\u00f1a      -33.522650   \n57      Hospital de Cerro Navia -  F\u00e9lix Bulnes Cerda      -33.424561   \n61                                          Coaniquem      -33.436965   \n67                          Hospital Dr. F\u00e9lix Bulnes      -33.415910   \n68  Servicio de Odontolog\u00eda Hospital F\u00e9lix Bulnes ...      -33.415789   \n70                          Consultorio Violeta Parra      -33.457225   \n71                            SAPU Dr. Gustavo Molina      -33.458319   \n72                                         Sapu Renca      -33.403581   \n73                    SUI Hospital Felix Bulnes Cerda      -33.414649   \n\n    Venue Longitude  Venue Category  \n15       -70.700683        Hospital  \n17       -70.702841        Hospital  \n22       -70.673671        Hospital  \n24       -70.701743        Hospital  \n25       -70.701023        Hospital  \n26       -70.701917        Hospital  \n27       -70.701221        Hospital  \n28       -70.651433        Hospital  \n32       -70.702976  Emergency Room  \n33       -70.701218  Emergency Room  \n34       -70.700735  Emergency Room  \n38       -70.697364  Emergency Room  \n57       -70.740424        Hospital  \n61       -70.748909        Hospital  \n67       -70.696911        Hospital  \n68       -70.696831        Hospital  \n70       -70.742817  Emergency Room  \n71       -70.761000  Emergency Room  \n72       -70.702324  Emergency Room  \n73       -70.695922  Emergency Room  "
                    }, 
                    "output_type": "execute_result"
                }
            ], 
            "source": "df_full = pd.read_csv('santiago_data_full.csv')\ndf_full[[\"Neighborhood Latitude\", \"Neighborhood Longitude\",\"Venue Latitude\",\"Venue Longitude\"]].apply(pd.to_numeric)\nvalid_categories = ['Hospital','Emergency Room']\ndf_full = df_full[df_full['Venue Category'].isin(valid_categories)]\ndf_full.head(20)"
        }, 
        {
            "source": "Now print a sample map with the information so visually we can see where all these venues are located", 
            "cell_type": "markdown", 
            "metadata": {}
        }, 
        {
            "execution_count": null, 
            "cell_type": "code", 
            "metadata": {}, 
            "outputs": [], 
            "source": "location = geolocator.geocode('Santiago, Chile')\nsantiago_map = folium.Map(location=[location.latitude, location.longitude], zoom_start=11)\n\ndef get_color(category):\n    ret = '#000000'\n    if ( category == 'Hospital'):\n        ret = '#FF0000'\n    elif ( category == 'Emergency Room'):\n        ret = '#00FF00'\n    return ret\n\nfor lat, lng, neighborhood,population in zip(df['Latitude'], df['Longitude'], df['Neighborhood'],df['Population']):\n    label_str = '{}, Population : {}'.format(neighborhood,population)\n    label = folium.Popup(label_str, parse_html=True)\n    folium.CircleMarker(\n        [lat, lng],\n        radius=5,\n        popup=label,\n        color='blue',\n        fill=True,\n        fill_color='#3186cc',\n        fill_opacity=0.7,\n        parse_html=False).add_to(santiago_map)  \n\nfor lat, lng, venue,category in zip(df_full['Venue Latitude'], df_full['Venue Longitude'], df_full['Venue'],df_full['Venue Category']):\n    label_str = '{}, Category : {}'.format(venue,category)\n    label = folium.Popup(label_str, parse_html=True)\n    folium.CircleMarker(\n        [lat, lng],\n        radius=5,\n        popup=label,\n        color=get_color(category),\n        fill=True,\n        fill_color=get_color(category),\n        fill_opacity=0.7,\n        parse_html=False).add_to(santiago_map) \n    \nsantiago_map"
        }, 
        {
            "execution_count": null, 
            "cell_type": "code", 
            "metadata": {}, 
            "outputs": [], 
            "source": ""
        }
    ], 
    "metadata": {
        "kernelspec": {
            "display_name": "Python 3.6", 
            "name": "python3", 
            "language": "python"
        }, 
        "language_info": {
            "mimetype": "text/x-python", 
            "nbconvert_exporter": "python", 
            "version": "3.6.8", 
            "name": "python", 
            "file_extension": ".py", 
            "pygments_lexer": "ipython3", 
            "codemirror_mode": {
                "version": 3, 
                "name": "ipython"
            }
        }
    }, 
    "nbformat": 4
}