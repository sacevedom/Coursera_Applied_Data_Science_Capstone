{
 "cells": [
  {
   "cell_type": "markdown",
   "metadata": {},
   "source": [
    "# 1. Introduction"
   ]
  },
  {
   "cell_type": "markdown",
   "metadata": {},
   "source": [
    "Santiago de Chile is a growing city with a major increase in population during the last decades due to economic growth and inmigrant population. That raises several issues, in particular healthcare problems specially in winter during the peak period of diseases.\n",
    "To address this problem, the city needs to allocate their resources to build more healthcare facilitates in locations where today are non existant or the only that exists are private facilities."
   ]
  },
  {
   "cell_type": "markdown",
   "metadata": {},
   "source": [
    "# 2. Business Problem"
   ]
  },
  {
   "cell_type": "markdown",
   "metadata": {},
   "source": [
    "It is needed to find the best location for the next healthcare facilites that are goint to be built in Santiago and be able to attend the increased demand specially during the peak period.\n",
    "\n",
    "#### Stakeholders \n",
    "Local goverment/authorities\n",
    "\n",
    "#### Target Audience\n",
    "Santiago population\n",
    "\n",
    "#### Reason to solve \n",
    "If the allocation of the new facilites are correct, the quality of life of thousands of people will be improved vastly during the peak period of deceases (winter)"
   ]
  },
  {
   "cell_type": "code",
   "execution_count": null,
   "metadata": {},
   "outputs": [],
   "source": []
  }
 ],
 "metadata": {
  "kernelspec": {
   "display_name": "Python 3",
   "language": "python",
   "name": "python3"
  },
  "language_info": {
   "codemirror_mode": {
    "name": "ipython",
    "version": 3
   },
   "file_extension": ".py",
   "mimetype": "text/x-python",
   "name": "python",
   "nbconvert_exporter": "python",
   "pygments_lexer": "ipython3",
   "version": "3.6.6"
  },
  "widgets": {
   "state": {},
   "version": "1.1.2"
  }
 },
 "nbformat": 4,
 "nbformat_minor": 2
}
